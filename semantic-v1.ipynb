{
 "cells": [
  {
   "cell_type": "markdown",
   "id": "c0bfa7b1-f434-4342-82f9-40d6aa0f55ed",
   "metadata": {},
   "source": [
    "# Semantic Search"
   ]
  },
  {
   "cell_type": "markdown",
   "id": "dd97b88a-4f5c-44ad-b9c5-6d6a6e67b641",
   "metadata": {},
   "source": [
    "## Vocabulary: \n",
    "- Text Embedding: A dense vector representation of a piece of text that converts words or phrases into numerical data\n",
    "- Vector:\n",
    "- Semantic Search:\n"
   ]
  },
  {
   "cell_type": "code",
   "execution_count": null,
   "id": "10e1ee14-7307-47dd-806a-3e5e86872ac2",
   "metadata": {},
   "outputs": [],
   "source": [
    "# import sys\n",
    "# sys.executable\n",
    "# !{sys.executable} -m pip install packageName"
   ]
  },
  {
   "cell_type": "markdown",
   "id": "cd5741bc-c877-422f-9ee3-b0941620a24e",
   "metadata": {},
   "source": [
    "## Install packages"
   ]
  },
  {
   "cell_type": "code",
   "execution_count": null,
   "id": "5de07870-0f3e-4b89-94c7-89232c662450",
   "metadata": {},
   "outputs": [],
   "source": [
    "# Tensorflow requirements absl-py astunparse flatbuffers gast google-pasta grpcio h5py keras libclang ml-dtypes numpy opt-einsum packaging protobuf requests setuptools six tensorboard tensorflow-io-gcs-filesystem termcolor typing-extensions wrapt"
   ]
  },
  {
   "cell_type": "code",
   "execution_count": null,
   "id": "81627927-5fb6-465c-ba3e-2fc02b066e5c",
   "metadata": {},
   "outputs": [],
   "source": [
    "#!python -m pip install -q absl-py astunparse flatbuffers gast google-pasta grpcio h5py keras libclang ml-dtypes numpy opt-einsum packaging protobuf requests setuptools six tensorboard tensorflow-io-gcs-filesystem termcolor typing-extensions wrapt"
   ]
  },
  {
   "cell_type": "code",
   "execution_count": null,
   "id": "0789ec67-fcab-4db9-b8e5-56e62de181f2",
   "metadata": {},
   "outputs": [],
   "source": [
    "!python3 -m pip install -q apache_beam pysolr scikit-learn tensorflow annoy\n",
    "#!python -m pip install -q pysolr\n",
    "#!python -m pip install -q scikit-learn\n",
    "#!python -m pip install -q tensorflow\n",
    "#!python -m pip install -q annoy\n",
    "!python3 -m pip show tensorflow\n",
    "!python3 -m pip show annoy"
   ]
  },
  {
   "cell_type": "code",
   "execution_count": null,
   "id": "dbf5bbab-99db-449d-9052-3fc9441af1c8",
   "metadata": {},
   "outputs": [],
   "source": [
    "# pip3 install --upgrade pip"
   ]
  },
  {
   "cell_type": "code",
   "execution_count": null,
   "id": "3da81b78-9a40-4f8a-94f2-03a5331aefb3",
   "metadata": {},
   "outputs": [],
   "source": [
    "# !echo $PATH"
   ]
  },
  {
   "cell_type": "code",
   "execution_count": null,
   "id": "1c49d741-dfd0-431c-88a5-c1bb4edd8cd4",
   "metadata": {},
   "outputs": [],
   "source": [
    "# !type -a python"
   ]
  },
  {
   "cell_type": "code",
   "execution_count": null,
   "id": "ebd83818-eb65-4994-9a2d-8dac5ef95cef",
   "metadata": {},
   "outputs": [],
   "source": [
    "# !type -a pip"
   ]
  },
  {
   "cell_type": "markdown",
   "id": "bc0985da-5c13-4c4a-bb0f-e08307fc450e",
   "metadata": {},
   "source": [
    "## Import the required libraries"
   ]
  },
  {
   "cell_type": "code",
   "execution_count": null,
   "id": "a25e71bb-93a1-42f7-b9b7-f3b256b18edf",
   "metadata": {},
   "outputs": [],
   "source": [
    "import os\n",
    "import sys\n",
    "import pathlib\n",
    "import pickle\n",
    "from collections import namedtuple\n",
    "from datetime import datetime\n",
    "\n",
    "import numpy as np\n",
    "import apache_beam as beam\n",
    "import annoy\n",
    "from sklearn.random_projection import GaussianRandomProjection\n",
    "import tensorflow.compat.v1 as tf\n",
    "\n",
    "import tensorflow_hub as hub"
   ]
  }
 ],
 "metadata": {
  "kernelspec": {
   "display_name": "Python 3 (ipykernel)",
   "language": "python",
   "name": "python3"
  },
  "language_info": {
   "codemirror_mode": {
    "name": "ipython",
    "version": 3
   },
   "file_extension": ".py",
   "mimetype": "text/x-python",
   "name": "python",
   "nbconvert_exporter": "python",
   "pygments_lexer": "ipython3",
   "version": "3.10.0"
  }
 },
 "nbformat": 4,
 "nbformat_minor": 5
}
