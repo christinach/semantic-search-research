{
 "cells": [
  {
   "cell_type": "markdown",
   "id": "01e78203-2520-4646-8ccb-d23881d5a608",
   "metadata": {},
   "source": [
    "## Use pipenv to create a notebook."
   ]
  },
  {
   "cell_type": "markdown",
   "id": "788d81c2-4e8d-465d-b0fe-1be18ad8ea97",
   "metadata": {
    "jp-MarkdownHeadingCollapsed": true
   },
   "source": [
    "Install the following required packages in the virtual environment. The pipenv is using python 3.10. \n",
    "See also Pipfile.lock"
   ]
  },
  {
   "cell_type": "markdown",
   "id": "cff1c00e-eb4d-4bcc-b319-44940ab10b89",
   "metadata": {},
   "source": [
    "Vocabulary:   \n",
    "[Tensorflow](https://github.com/tensorflow/tensorflow)   \n",
    "[Annoy](https://github.com/spotify/annoy)  \n"
   ]
  },
  {
   "cell_type": "code",
   "execution_count": null,
   "id": "c53b55ea-ee44-4f9c-b38b-979f74f16c31",
   "metadata": {},
   "outputs": [],
   "source": [
    "!pipenv install wheel tensorflow annoy apache_beam scikit-learn"
   ]
  },
  {
   "cell_type": "code",
   "execution_count": null,
   "id": "460715a9-de4c-41f3-ade5-7f007a231cf5",
   "metadata": {},
   "outputs": [],
   "source": [
    "# Show versions: \n",
    "!pipenv run pip freeze | grep tensorflow\n",
    "!pipenv run pip freeze | grep annoy"
   ]
  },
  {
   "cell_type": "code",
   "execution_count": null,
   "id": "0836c561-c9e1-41d2-8703-13e3c1df34ce",
   "metadata": {},
   "outputs": [],
   "source": [
    "import os\n",
    "import sys\n",
    "import pathlib\n",
    "import pickle\n",
    "from collections import namedtuple\n",
    "from datetime import datetime\n",
    "\n",
    "import numpy as np\n",
    "import apache_beam as beam\n",
    "import annoy\n",
    "from sklearn.random_projection import GaussianRandomProjection\n",
    "\n",
    "import tensorflow.compat.v1 as tf\n"
   ]
  },
  {
   "cell_type": "code",
   "execution_count": null,
   "id": "c880ffac-94da-45ee-a9bb-4e213726d375",
   "metadata": {},
   "outputs": [],
   "source": []
  }
 ],
 "metadata": {
  "kernelspec": {
   "display_name": "Python 3 (ipykernel)",
   "language": "python",
   "name": "python3"
  },
  "language_info": {
   "codemirror_mode": {
    "name": "ipython",
    "version": 3
   },
   "file_extension": ".py",
   "mimetype": "text/x-python",
   "name": "python",
   "nbconvert_exporter": "python",
   "pygments_lexer": "ipython3",
   "version": "3.10.0"
  }
 },
 "nbformat": 4,
 "nbformat_minor": 5
}
