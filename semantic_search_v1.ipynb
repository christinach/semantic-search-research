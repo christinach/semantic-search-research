{
 "cells": [
  {
   "cell_type": "markdown",
   "metadata": {
    "id": "GPmrvVj-bkPS"
   },
   "source": [
    "Colab notebook - semantic search"
   ]
  },
  {
   "cell_type": "code",
   "execution_count": null,
   "metadata": {
    "id": "ioemVI0sI3zV"
   },
   "outputs": [],
   "source": [
    "!python -m pip install -q apache_beam pysolr scikit-learn tensorflow annoy numpy pandas==2.2.0 pyarrow==14.0.0 tensorflow_transform\n",
    "# Print versions\n",
    "!python -m pip show tensorflow\n",
    "!python -m pip show annoy\n",
    "!python -m pip show tensorflow_transform\n",
    "!python -m pip show pandas\n",
    "!python -m pip show pyarrow"
   ]
  },
  {
   "cell_type": "markdown",
   "metadata": {
    "id": "xG0VnsyAbjXy"
   },
   "source": []
  },
  {
   "cell_type": "code",
   "execution_count": null,
   "metadata": {
    "id": "RKiYAYtlI6sb"
   },
   "outputs": [],
   "source": [
    "import os\n",
    "import time\n",
    "import sys\n",
    "import pathlib\n",
    "import pickle\n",
    "from collections import namedtuple\n",
    "from datetime import datetime\n",
    "\n",
    "import numpy as np\n",
    "import apache_beam as beam\n",
    "import annoy\n",
    "from sklearn.random_projection import GaussianRandomProjection\n",
    "import tensorflow as tf\n",
    "\n",
    "import tensorflow_hub as hub"
   ]
  },
  {
   "cell_type": "code",
   "execution_count": null,
   "metadata": {
    "id": "EGsjyJA3bEPA"
   },
   "outputs": [],
   "source": [
    "#!python -m pip install -q keras\n",
    "# !python -m pip install tensorflow_transform\n",
    "import tensorflow_transform as tft\n",
    "import tensorflow_transform.beam as tft_beam"
   ]
  },
  {
   "cell_type": "markdown",
   "metadata": {
    "id": "ydca9pPhpGKC"
   },
   "source": [
    "## Download Solr9"
   ]
  },
  {
   "cell_type": "code",
   "execution_count": null,
   "metadata": {
    "id": "cQW67pjyyngu"
   },
   "outputs": [],
   "source": []
  },
  {
   "cell_type": "code",
   "execution_count": null,
   "metadata": {
    "id": "QVohxH1Eyr-B"
   },
   "outputs": [],
   "source": [
    "%%bash\n",
    "\n",
    "wget -q https://pulmirror.princeton.edu/mirror/solr/dist/lucene/solr/9.0.0/solr-9.0.0.tgz\n",
    "wget -q https://pulmirror.princeton.edu/mirror/solr/dist/lucene/solr/9.0.0/solr-9.0.0.tgz.sha512\n",
    "tar xzf solr-9.0.0.tgz solr-9.0.0/bin/install_solr_service.sh --strip-components=2\n",
    "#sudo chown -R daemon:daemon solr-9.0.0\n",
    "shasum -a 512 -c solr-9.0.0.tgz.sha512\n",
    "#sudo bash ./install_solr_service.sh solr-9.0.0.tgz\n",
    "sudo bash ./install_solr_service.sh solr-9.0.0.tgz -i /opt -d /var/solr -u solr -s solr -p 8983\n",
    "#echo $PWD\n",
    "#ls -al $CWD\n"
   ]
  },
  {
   "cell_type": "code",
   "execution_count": null,
   "metadata": {
    "id": "U1B-TS3X27vS"
   },
   "outputs": [],
   "source": [
    "time.sleep(20)\n",
    "sudo service solr status"
   ]
  },
  {
   "cell_type": "code",
   "execution_count": null,
   "metadata": {
    "id": "zbk5Yj5_reJ3"
   },
   "outputs": [],
   "source": [
    "%%bash\n",
    "\n",
    "echo ls -l /root"
   ]
  },
  {
   "cell_type": "code",
   "execution_count": null,
   "metadata": {
    "id": "wlJKrTLLrwp3"
   },
   "outputs": [],
   "source": [
    "%%bash --bg\n",
    "sudo bash ./install_solr_service.sh solr-9.0.0.tgz\n",
    "\n",
    "#sudo bash ./install_solr_service.sh solr-9.0.0.tgz -i /opt -d /var/solr -u solr -s solr -p 8983\n",
    "\n",
    "# sudo -H -u daemon solr-9.0.0/bin/install_solr_service.sh #-p 8984\n",
    "# daemon \"java -jar solr-9.0.0/bin/solr\"\n"
   ]
  },
  {
   "cell_type": "code",
   "execution_count": null,
   "metadata": {
    "id": "dyuQf2vLoIyt"
   },
   "outputs": [],
   "source": [
    "%%bash\n",
    "\n",
    "echo $HOME\n",
    "java -version"
   ]
  },
  {
   "cell_type": "code",
   "execution_count": null,
   "metadata": {
    "id": "j1q6IryaDDQz"
   },
   "outputs": [],
   "source": [
    "time.sleep(20)\n",
    "sudo service solr status"
   ]
  },
  {
   "cell_type": "code",
   "execution_count": null,
   "metadata": {
    "id": "9L7yW3-QDGky"
   },
   "outputs": [],
   "source": [
    "%%bash\n",
    "\n",
    "ps -ef | grep solr"
   ]
  },
  {
   "cell_type": "markdown",
   "metadata": {
    "id": "tageNlw1hFMg"
   },
   "source": [
    "## Download ElasticSearch"
   ]
  },
  {
   "cell_type": "code",
   "execution_count": null,
   "metadata": {
    "id": "YUj0878jPyz7"
   },
   "outputs": [],
   "source": [
    "%%bash\n",
    "\n",
    "wget -q https://artifacts.elastic.co/downloads/elasticsearch/elasticsearch-oss-7.9.2-linux-x86_64.tar.gz\n",
    "wget -q https://artifacts.elastic.co/downloads/elasticsearch/elasticsearch-oss-7.9.2-linux-x86_64.tar.gz.sha512\n",
    "tar -xzf elasticsearch-oss-7.9.2-linux-x86_64.tar.gz\n",
    "sudo chown -R daemon:daemon elasticsearch-7.9.2/\n",
    "shasum -a 512 -c elasticsearch-oss-7.9.2-linux-x86_64.tar.gz.sha512"
   ]
  },
  {
   "cell_type": "code",
   "execution_count": null,
   "metadata": {
    "id": "TtnclOk-CdY8"
   },
   "outputs": [],
   "source": []
  },
  {
   "cell_type": "code",
   "execution_count": null,
   "metadata": {
    "id": "n9ujlunrWgRx"
   },
   "outputs": [],
   "source": [
    "%%bash --bg\n",
    "\n",
    "sudo -H -u daemon elasticsearch-7.9.2/bin/elasticsearch"
   ]
  },
  {
   "cell_type": "code",
   "execution_count": null,
   "metadata": {
    "id": "RSugmjFs_OmQ"
   },
   "outputs": [],
   "source": [
    "time.sleep(20)"
   ]
  },
  {
   "cell_type": "code",
   "execution_count": null,
   "metadata": {
    "id": "7ym23dst_tcZ"
   },
   "outputs": [],
   "source": [
    "%%bash\n",
    "\n",
    "ps -ef | grep elasticsearch"
   ]
  },
  {
   "cell_type": "code",
   "execution_count": null,
   "metadata": {
    "id": "sE5oAbTCc88h"
   },
   "outputs": [],
   "source": [
    "%%bash\n",
    "\n",
    "curl -sX GET \"localhost:9200/\""
   ]
  }
 ],
 "metadata": {
  "colab": {
   "provenance": []
  },
  "kernelspec": {
   "display_name": "Python 3 (ipykernel)",
   "language": "python",
   "name": "python3"
  },
  "language_info": {
   "codemirror_mode": {
    "name": "ipython",
    "version": 3
   },
   "file_extension": ".py",
   "mimetype": "text/x-python",
   "name": "python",
   "nbconvert_exporter": "python",
   "pygments_lexer": "ipython3",
   "version": "3.10.0"
  }
 },
 "nbformat": 4,
 "nbformat_minor": 4
}
