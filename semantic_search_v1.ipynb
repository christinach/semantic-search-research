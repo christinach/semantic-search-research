{
  "nbformat": 4,
  "nbformat_minor": 0,
  "metadata": {
    "colab": {
      "provenance": []
    },
    "kernelspec": {
      "name": "python3",
      "display_name": "Python 3"
    },
    "language_info": {
      "name": "python"
    }
  },
  "cells": [
    {
      "cell_type": "markdown",
      "source": [
        "Colab notebook - semantic search"
      ],
      "metadata": {
        "id": "GPmrvVj-bkPS"
      }
    },
    {
      "cell_type": "code",
      "execution_count": null,
      "metadata": {
        "id": "ioemVI0sI3zV"
      },
      "outputs": [],
      "source": [
        "!python -m pip install -q apache_beam pysolr scikit-learn tensorflow annoy numpy pandas==2.2.0 pyarrow==14.0.0 tensorflow_transform\n",
        "# Print versions\n",
        "!python -m pip show tensorflow\n",
        "!python -m pip show annoy\n",
        "!python -m pip show tensorflow_transform\n",
        "!python -m pip show pandas\n",
        "!python -m pip show pyarrow"
      ]
    },
    {
      "cell_type": "markdown",
      "source": [],
      "metadata": {
        "id": "xG0VnsyAbjXy"
      }
    },
    {
      "cell_type": "code",
      "source": [
        "import os\n",
        "import time\n",
        "import sys\n",
        "import pathlib\n",
        "import pickle\n",
        "from collections import namedtuple\n",
        "from datetime import datetime\n",
        "\n",
        "import numpy as np\n",
        "import apache_beam as beam\n",
        "import annoy\n",
        "from sklearn.random_projection import GaussianRandomProjection\n",
        "import tensorflow as tf\n",
        "\n",
        "import tensorflow_hub as hub"
      ],
      "metadata": {
        "id": "RKiYAYtlI6sb"
      },
      "execution_count": null,
      "outputs": []
    },
    {
      "cell_type": "code",
      "source": [
        "#!python -m pip install -q keras\n",
        "# !python -m pip install tensorflow_transform\n",
        "import tensorflow_transform as tft\n",
        "import tensorflow_transform.beam as tft_beam"
      ],
      "metadata": {
        "id": "EGsjyJA3bEPA"
      },
      "execution_count": null,
      "outputs": []
    },
    {
      "cell_type": "markdown",
      "source": [
        "## Download Solr9"
      ],
      "metadata": {
        "id": "ydca9pPhpGKC"
      }
    },
    {
      "cell_type": "code",
      "source": [],
      "metadata": {
        "id": "cQW67pjyyngu"
      },
      "execution_count": null,
      "outputs": []
    },
    {
      "cell_type": "code",
      "source": [
        "%%bash\n",
        "\n",
        "wget -q https://pulmirror.princeton.edu/mirror/solr/dist/lucene/solr/9.0.0/solr-9.0.0.tgz\n",
        "wget -q https://pulmirror.princeton.edu/mirror/solr/dist/lucene/solr/9.0.0/solr-9.0.0.tgz.sha512\n",
        "tar -xzf solr-9.0.0.tgz\n",
        "sudo chown -R daemon:daemon solr-9.0.0\n",
        "shasum -a 512 -c solr-9.0.0.tgz.sha512\n"
      ],
      "metadata": {
        "id": "QVohxH1Eyr-B"
      },
      "execution_count": null,
      "outputs": []
    },
    {
      "cell_type": "code",
      "source": [
        "%%bash\n",
        "\n",
        "echo ls -l /root"
      ],
      "metadata": {
        "id": "zbk5Yj5_reJ3"
      },
      "execution_count": null,
      "outputs": []
    },
    {
      "cell_type": "code",
      "source": [
        "%%bash --bg\n",
        "sudo bash ./install_solr_service.sh solr-9.0.0.tgz\n",
        "\n",
        "#sudo bash ./install_solr_service.sh solr-9.0.0.tgz -i /opt -d /var/solr -u solr -s solr -p 8983\n",
        "\n",
        "# sudo -H -u daemon solr-9.0.0/bin/install_solr_service.sh #-p 8984\n",
        "# daemon \"java -jar solr-9.0.0/bin/solr\"\n"
      ],
      "metadata": {
        "id": "wlJKrTLLrwp3"
      },
      "execution_count": null,
      "outputs": []
    },
    {
      "cell_type": "code",
      "source": [
        "%%bash\n",
        "\n",
        "echo $HOME\n",
        "java -version"
      ],
      "metadata": {
        "id": "dyuQf2vLoIyt"
      },
      "execution_count": null,
      "outputs": []
    },
    {
      "cell_type": "code",
      "source": [
        "time.sleep(20)\n",
        "sudo service solr status"
      ],
      "metadata": {
        "id": "j1q6IryaDDQz"
      },
      "execution_count": null,
      "outputs": []
    },
    {
      "cell_type": "code",
      "source": [
        "%%bash\n",
        "\n",
        "ps -ef | grep solr"
      ],
      "metadata": {
        "id": "9L7yW3-QDGky"
      },
      "execution_count": null,
      "outputs": []
    },
    {
      "cell_type": "markdown",
      "source": [
        "## Download ElasticSearch"
      ],
      "metadata": {
        "id": "tageNlw1hFMg"
      }
    },
    {
      "cell_type": "code",
      "execution_count": null,
      "metadata": {
        "id": "YUj0878jPyz7"
      },
      "outputs": [],
      "source": [
        "%%bash\n",
        "\n",
        "wget -q https://artifacts.elastic.co/downloads/elasticsearch/elasticsearch-oss-7.9.2-linux-x86_64.tar.gz\n",
        "wget -q https://artifacts.elastic.co/downloads/elasticsearch/elasticsearch-oss-7.9.2-linux-x86_64.tar.gz.sha512\n",
        "tar -xzf elasticsearch-oss-7.9.2-linux-x86_64.tar.gz\n",
        "sudo chown -R daemon:daemon elasticsearch-7.9.2/\n",
        "shasum -a 512 -c elasticsearch-oss-7.9.2-linux-x86_64.tar.gz.sha512"
      ]
    },
    {
      "cell_type": "code",
      "source": [],
      "metadata": {
        "id": "TtnclOk-CdY8"
      },
      "execution_count": null,
      "outputs": []
    },
    {
      "cell_type": "code",
      "execution_count": null,
      "metadata": {
        "id": "n9ujlunrWgRx"
      },
      "outputs": [],
      "source": [
        "%%bash --bg\n",
        "\n",
        "sudo -H -u daemon elasticsearch-7.9.2/bin/elasticsearch"
      ]
    },
    {
      "cell_type": "code",
      "source": [
        "time.sleep(20)"
      ],
      "metadata": {
        "id": "RSugmjFs_OmQ"
      },
      "execution_count": null,
      "outputs": []
    },
    {
      "cell_type": "code",
      "source": [
        "%%bash\n",
        "\n",
        "ps -ef | grep elasticsearch"
      ],
      "metadata": {
        "id": "7ym23dst_tcZ"
      },
      "execution_count": null,
      "outputs": []
    },
    {
      "cell_type": "code",
      "source": [
        "%%bash\n",
        "\n",
        "curl -sX GET \"localhost:9200/\""
      ],
      "metadata": {
        "id": "sE5oAbTCc88h"
      },
      "execution_count": null,
      "outputs": []
    }
  ]
}