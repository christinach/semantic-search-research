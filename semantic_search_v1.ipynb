{
  "nbformat": 4,
  "nbformat_minor": 0,
  "metadata": {
    "colab": {
      "provenance": []
    },
    "kernelspec": {
      "name": "python3",
      "display_name": "Python 3"
    },
    "language_info": {
      "name": "python"
    }
  },
  "cells": [
    {
      "cell_type": "markdown",
      "source": [
        "Colab notebook - semantic search"
      ],
      "metadata": {
        "id": "GPmrvVj-bkPS"
      }
    },
    {
      "cell_type": "code",
      "execution_count": 6,
      "metadata": {
        "colab": {
          "base_uri": "https://localhost:8080/"
        },
        "id": "ioemVI0sI3zV",
        "outputId": "3a9949e9-83b4-4cfb-db1d-8592e97479a8"
      },
      "outputs": [
        {
          "output_type": "stream",
          "name": "stdout",
          "text": [
            "Name: tensorflow\n",
            "Version: 2.17.1\n",
            "Summary: TensorFlow is an open source machine learning framework for everyone.\n",
            "Home-page: https://www.tensorflow.org/\n",
            "Author: Google Inc.\n",
            "Author-email: packages@tensorflow.org\n",
            "License: Apache 2.0\n",
            "Location: /usr/local/lib/python3.10/dist-packages\n",
            "Requires: absl-py, astunparse, flatbuffers, gast, google-pasta, grpcio, h5py, keras, libclang, ml-dtypes, numpy, opt-einsum, packaging, protobuf, requests, setuptools, six, tensorboard, tensorflow-io-gcs-filesystem, termcolor, typing-extensions, wrapt\n",
            "Required-by: dopamine_rl, tf_keras\n",
            "Name: annoy\n",
            "Version: 1.17.3\n",
            "Summary: Approximate Nearest Neighbors in C++/Python optimized for memory usage and loading/saving to disk.\n",
            "Home-page: https://github.com/spotify/annoy\n",
            "Author: Erik Bernhardsson\n",
            "Author-email: mail@erikbern.com\n",
            "License: Apache License 2.0\n",
            "Location: /usr/local/lib/python3.10/dist-packages\n",
            "Requires: \n",
            "Required-by: \n"
          ]
        }
      ],
      "source": [
        "!python -m pip install -q apache_beam pysolr scikit-learn tensorflow annoy\n",
        "!python -m pip show tensorflow\n",
        "!python -m pip show annoy"
      ]
    },
    {
      "cell_type": "markdown",
      "source": [],
      "metadata": {
        "id": "xG0VnsyAbjXy"
      }
    },
    {
      "cell_type": "code",
      "source": [
        "import os\n",
        "import sys\n",
        "import pathlib\n",
        "import pickle\n",
        "from collections import namedtuple\n",
        "from datetime import datetime\n",
        "\n",
        "import numpy as np\n",
        "import apache_beam as beam\n",
        "import annoy\n",
        "from sklearn.random_projection import GaussianRandomProjection\n",
        "import tensorflow as tf\n",
        "\n",
        "import tensorflow_hub as hub"
      ],
      "metadata": {
        "id": "RKiYAYtlI6sb"
      },
      "execution_count": 9,
      "outputs": []
    },
    {
      "cell_type": "code",
      "source": [
        "!python -m pip install -q keras"
      ],
      "metadata": {
        "id": "EGsjyJA3bEPA"
      },
      "execution_count": 10,
      "outputs": []
    }
  ]
}