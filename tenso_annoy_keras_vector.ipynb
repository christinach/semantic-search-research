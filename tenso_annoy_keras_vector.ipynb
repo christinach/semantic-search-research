{
 "cells": [
  {
   "cell_type": "code",
   "execution_count": 1,
   "metadata": {
    "id": "WCKk41Yr1Y5F"
   },
   "outputs": [],
   "source": [
    "!python -m pip install -q wheel tensorflow annoy apache_beam scikit-learn"
   ]
  },
  {
   "cell_type": "code",
   "execution_count": 2,
   "metadata": {
    "id": "VCTbAPFc2GOm"
   },
   "outputs": [],
   "source": [
    "import numpy as np\n",
    "import pandas as pd\n",
    "#import tensorflow as tf"
   ]
  },
  {
   "cell_type": "code",
   "execution_count": 3,
   "metadata": {
    "colab": {
     "base_uri": "https://localhost:8080/",
     "height": 327
    },
    "id": "5ZAjl7pl4O3z",
    "outputId": "223635bd-f06b-426b-a6c1-d348fa0086ec"
   },
   "outputs": [
    {
     "data": {
      "text/html": [
       "<div>\n",
       "<style scoped>\n",
       "    .dataframe tbody tr th:only-of-type {\n",
       "        vertical-align: middle;\n",
       "    }\n",
       "\n",
       "    .dataframe tbody tr th {\n",
       "        vertical-align: top;\n",
       "    }\n",
       "\n",
       "    .dataframe thead th {\n",
       "        text-align: right;\n",
       "    }\n",
       "</style>\n",
       "<table border=\"1\" class=\"dataframe\">\n",
       "  <thead>\n",
       "    <tr style=\"text-align: right;\">\n",
       "      <th></th>\n",
       "      <th>Publisher</th>\n",
       "      <th>Title</th>\n",
       "      <th>Continues</th>\n",
       "      <th>Call Number</th>\n",
       "      <th>Bound Holdings</th>\n",
       "      <th>Unbound Holdings</th>\n",
       "    </tr>\n",
       "  </thead>\n",
       "  <tbody>\n",
       "    <tr>\n",
       "      <th>0</th>\n",
       "      <td>Aarhus University</td>\n",
       "      <td>Okonomisk Institut Memo</td>\n",
       "      <td>(continued by: Aarhus University - Working Paper)</td>\n",
       "      <td>HG1.M456</td>\n",
       "      <td>#1994-21 - 1997-14</td>\n",
       "      <td>2000+</td>\n",
       "    </tr>\n",
       "    <tr>\n",
       "      <th>1</th>\n",
       "      <td>Aarhus University</td>\n",
       "      <td>Working paper</td>\n",
       "      <td>(continues:Aarhus University - Okonomisk Insti...</td>\n",
       "      <td>NaN</td>\n",
       "      <td>no bound holdings</td>\n",
       "      <td>1975+</td>\n",
       "    </tr>\n",
       "    <tr>\n",
       "      <th>2</th>\n",
       "      <td>African Economic Research Consortium</td>\n",
       "      <td>AERC Research Papers</td>\n",
       "      <td>NaN</td>\n",
       "      <td>HC800.A1 R423</td>\n",
       "      <td>#1(1990)- 284 (2014); lacks many issues</td>\n",
       "      <td>1997+</td>\n",
       "    </tr>\n",
       "    <tr>\n",
       "      <th>3</th>\n",
       "      <td>African Economic Research Consortium</td>\n",
       "      <td>AERC Special Papers</td>\n",
       "      <td>NaN</td>\n",
       "      <td>NaN</td>\n",
       "      <td>#12 - #44 (cataloged separately, lacks many)</td>\n",
       "      <td>1997+</td>\n",
       "    </tr>\n",
       "    <tr>\n",
       "      <th>4</th>\n",
       "      <td>University of Alberta School of Business</td>\n",
       "      <td>Western Centre for Economic Research - Informa...</td>\n",
       "      <td>NaN</td>\n",
       "      <td>NaN</td>\n",
       "      <td>no bound holdings</td>\n",
       "      <td>1990+</td>\n",
       "    </tr>\n",
       "  </tbody>\n",
       "</table>\n",
       "</div>"
      ],
      "text/plain": [
       "                                  Publisher  \\\n",
       "0                         Aarhus University   \n",
       "1                         Aarhus University   \n",
       "2      African Economic Research Consortium   \n",
       "3      African Economic Research Consortium   \n",
       "4  University of Alberta School of Business   \n",
       "\n",
       "                                               Title  \\\n",
       "0                            Okonomisk Institut Memo   \n",
       "1                                      Working paper   \n",
       "2                               AERC Research Papers   \n",
       "3                                AERC Special Papers   \n",
       "4  Western Centre for Economic Research - Informa...   \n",
       "\n",
       "                                           Continues    Call Number  \\\n",
       "0  (continued by: Aarhus University - Working Paper)      HG1.M456    \n",
       "1  (continues:Aarhus University - Okonomisk Insti...            NaN   \n",
       "2                                                NaN  HC800.A1 R423   \n",
       "3                                                NaN            NaN   \n",
       "4                                                NaN            NaN   \n",
       "\n",
       "                                  Bound Holdings Unbound Holdings  \n",
       "0                             #1994-21 - 1997-14            2000+  \n",
       "1                              no bound holdings            1975+  \n",
       "2        #1(1990)- 284 (2014); lacks many issues            1997+  \n",
       "3  #12 - #44 (cataloged separately, lacks many)             1997+  \n",
       "4                              no bound holdings            1990+  "
      ]
     },
     "execution_count": 3,
     "metadata": {},
     "output_type": "execute_result"
    }
   ],
   "source": [
    "# results_csv = tf.keras.utils.get_file('results.csv','https://docs.google.com/spreadsheets/d/1Ov9i-0eGY3yWSoVd68e57EJIy7DhpT0AUROOI8bLG8k/edit?usp=sharing')\n",
    "static_economic = pd.read_csv('https://docs.google.com/spreadsheets/d/e/2PACX-1vShRFRLg6w_R9X-RxFJzPzTm2WT0RGbT0aUKYPl3mDuAqCJpQWG0rtnOMWRcIim5jJ63Y6ZMQ_zBlwY/pub?output=csv')\n",
    "static_economic.head()"
   ]
  },
  {
   "cell_type": "markdown",
   "metadata": {
    "id": "DdsUWpdl4TmN"
   },
   "source": []
  },
  {
   "cell_type": "markdown",
   "metadata": {
    "id": "50iAooLd4TjE"
   },
   "source": []
  },
  {
   "cell_type": "markdown",
   "metadata": {
    "id": "yTEW7I4L4TT7"
   },
   "source": []
  },
  {
   "cell_type": "markdown",
   "metadata": {
    "id": "l2Dv5oFoEMyD"
   },
   "source": [
    "[Word Embedding](https://www.tensorflow.org/text/guide/word_embeddings)"
   ]
  },
  {
   "cell_type": "code",
   "execution_count": 4,
   "metadata": {
    "id": "FRabRfscEc3E"
   },
   "outputs": [],
   "source": [
    "import io\n",
    "import os\n",
    "import re\n",
    "import shutil\n",
    "import string\n",
    "# import tensorflow as tf\n",
    "# from tensorflow.keras import Sequential\n",
    "# from tensorflow.keras.layers import Dense, Embedding, GlobalAveragePooling1D\n",
    "# from tensorflow.keras.layers import TextVectorization"
   ]
  },
  {
   "cell_type": "markdown",
   "metadata": {
    "id": "cD-Ef576FRS5"
   },
   "source": [
    "Use the embedding layer"
   ]
  },
  {
   "cell_type": "code",
   "execution_count": null,
   "metadata": {
    "id": "bpN4P1W9FUfa"
   },
   "outputs": [],
   "source": []
  }
 ],
 "metadata": {
  "colab": {
   "provenance": []
  },
  "kernelspec": {
   "display_name": "Python 3 (ipykernel)",
   "language": "python",
   "name": "python3"
  },
  "language_info": {
   "codemirror_mode": {
    "name": "ipython",
    "version": 3
   },
   "file_extension": ".py",
   "mimetype": "text/x-python",
   "name": "python",
   "nbconvert_exporter": "python",
   "pygments_lexer": "ipython3",
   "version": "3.10.0"
  }
 },
 "nbformat": 4,
 "nbformat_minor": 4
}
