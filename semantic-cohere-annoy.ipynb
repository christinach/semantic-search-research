{
 "cells": [
  {
   "cell_type": "markdown",
   "id": "029956b7",
   "metadata": {},
   "source": [
    "Use [Cohere](https://cohere.com), [Annoy](https://github.com/spotify/annoy)"
   ]
  },
  {
   "cell_type": "code",
   "execution_count": null,
   "id": "de5de567-30be-43d4-84d0-a4c07d0d0774",
   "metadata": {},
   "outputs": [],
   "source": [
    "!python -m pip install -q cohere annoy altair scikit-learn umap-learn"
   ]
  },
  {
   "cell_type": "code",
   "execution_count": 4,
   "id": "5cca1123-cf50-4b80-96c8-b373cf8bcc79",
   "metadata": {},
   "outputs": [],
   "source": [
    "import re\n",
    "import umap\n",
    "import cohere\n",
    "import numpy as np\n",
    "import pandas as pd\n",
    "import altair as alt\n",
    "\n",
    "from annoy import AnnoyIndex\n",
    "from sklearn.metrics.pairwise import cosine_similarity"
   ]
  },
  {
   "cell_type": "code",
   "execution_count": null,
   "id": "f0d433d5-b506-46cc-a50f-0dbb3ae75d35",
   "metadata": {},
   "outputs": [],
   "source": []
  }
 ],
 "metadata": {
  "kernelspec": {
   "display_name": "Python 3 (ipykernel)",
   "language": "python",
   "name": "python3"
  },
  "language_info": {
   "codemirror_mode": {
    "name": "ipython",
    "version": 3
   },
   "file_extension": ".py",
   "mimetype": "text/x-python",
   "name": "python",
   "nbconvert_exporter": "python",
   "pygments_lexer": "ipython3",
   "version": "3.10.0"
  }
 },
 "nbformat": 4,
 "nbformat_minor": 5
}
